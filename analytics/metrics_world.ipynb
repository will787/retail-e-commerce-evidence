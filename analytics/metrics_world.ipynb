{
 "cells": [
  {
   "cell_type": "code",
   "execution_count": null,
   "id": "6290008a",
   "metadata": {},
   "outputs": [],
   "source": [
    "import pandas as pd\n",
    "import numpy as np\n",
    "import matplotlib.pyplot as plt\n",
    "import plotly.express as px\n",
    "\n",
    "#modelling & consulting\n",
    "import statsmodels\n",
    "import seaborn as sns\n",
    "import sqlite3"
   ]
  },
  {
   "cell_type": "code",
   "execution_count": 3,
   "id": "88d37b8e",
   "metadata": {},
   "outputs": [
    {
     "data": {
      "text/html": [
       "<div>\n",
       "<style scoped>\n",
       "    .dataframe tbody tr th:only-of-type {\n",
       "        vertical-align: middle;\n",
       "    }\n",
       "\n",
       "    .dataframe tbody tr th {\n",
       "        vertical-align: top;\n",
       "    }\n",
       "\n",
       "    .dataframe thead th {\n",
       "        text-align: right;\n",
       "    }\n",
       "</style>\n",
       "<table border=\"1\" class=\"dataframe\">\n",
       "  <thead>\n",
       "    <tr style=\"text-align: right;\">\n",
       "      <th></th>\n",
       "      <th>Country</th>\n",
       "      <th>total_items</th>\n",
       "      <th>unique_items</th>\n",
       "      <th>avg_price_unit</th>\n",
       "      <th>total_revenue</th>\n",
       "      <th>ARPU</th>\n",
       "    </tr>\n",
       "  </thead>\n",
       "  <tbody>\n",
       "    <tr>\n",
       "      <th>0</th>\n",
       "      <td>United Kingdom</td>\n",
       "      <td>246630</td>\n",
       "      <td>3657</td>\n",
       "      <td>2.96</td>\n",
       "      <td>6811580.41</td>\n",
       "      <td>27.62</td>\n",
       "    </tr>\n",
       "    <tr>\n",
       "      <th>1</th>\n",
       "      <td>Netherlands</td>\n",
       "      <td>1149</td>\n",
       "      <td>783</td>\n",
       "      <td>2.76</td>\n",
       "      <td>283273.14</td>\n",
       "      <td>246.54</td>\n",
       "    </tr>\n",
       "    <tr>\n",
       "      <th>2</th>\n",
       "      <td>EIRE</td>\n",
       "      <td>3100</td>\n",
       "      <td>1949</td>\n",
       "      <td>3.40</td>\n",
       "      <td>251406.40</td>\n",
       "      <td>81.10</td>\n",
       "    </tr>\n",
       "    <tr>\n",
       "      <th>3</th>\n",
       "      <td>Germany</td>\n",
       "      <td>6600</td>\n",
       "      <td>1669</td>\n",
       "      <td>2.69</td>\n",
       "      <td>200808.40</td>\n",
       "      <td>30.43</td>\n",
       "    </tr>\n",
       "    <tr>\n",
       "      <th>4</th>\n",
       "      <td>France</td>\n",
       "      <td>5711</td>\n",
       "      <td>1521</td>\n",
       "      <td>2.70</td>\n",
       "      <td>181658.33</td>\n",
       "      <td>31.81</td>\n",
       "    </tr>\n",
       "  </tbody>\n",
       "</table>\n",
       "</div>"
      ],
      "text/plain": [
       "          Country  total_items  unique_items  avg_price_unit  total_revenue  \\\n",
       "0  United Kingdom       246630          3657            2.96     6811580.41   \n",
       "1     Netherlands         1149           783            2.76      283273.14   \n",
       "2            EIRE         3100          1949            3.40      251406.40   \n",
       "3         Germany         6600          1669            2.69      200808.40   \n",
       "4          France         5711          1521            2.70      181658.33   \n",
       "\n",
       "     ARPU  \n",
       "0   27.62  \n",
       "1  246.54  \n",
       "2   81.10  \n",
       "3   30.43  \n",
       "4   31.81  "
      ]
     },
     "execution_count": 3,
     "metadata": {},
     "output_type": "execute_result"
    }
   ],
   "source": [
    "conn = sqlite3.connect('../queries/retail.db')\n",
    "df_agg_world = pd.read_sql_query(\"SELECT * FROM country_consumption\", conn)\n",
    "conn.close()\n",
    "\n",
    "df_agg_world.head()"
   ]
  },
  {
   "cell_type": "code",
   "execution_count": null,
   "id": "508026f4",
   "metadata": {},
   "outputs": [],
   "source": [
    "#first simple visualization of the dataset with metric ARPU (scope of the world)\n",
    "\n"
   ]
  }
 ],
 "metadata": {
  "kernelspec": {
   "display_name": ".venv",
   "language": "python",
   "name": "python3"
  },
  "language_info": {
   "codemirror_mode": {
    "name": "ipython",
    "version": 3
   },
   "file_extension": ".py",
   "mimetype": "text/x-python",
   "name": "python",
   "nbconvert_exporter": "python",
   "pygments_lexer": "ipython3",
   "version": "3.9.6"
  }
 },
 "nbformat": 4,
 "nbformat_minor": 5
}
